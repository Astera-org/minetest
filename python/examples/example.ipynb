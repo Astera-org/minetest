{
 "cells": [
  {
   "cell_type": "code",
   "execution_count": null,
   "metadata": {},
   "outputs": [],
   "source": [
    "import os\n",
    "import tempfile\n",
    "\n",
    "import gymnasium\n",
    "import minetester\n",
    "import numpy as np\n",
    "\n",
    "temp_dir = tempfile.mkdtemp(prefix='minetester_')\n",
    "game_dir = os.path.join(os.environ[\"CONDA_PREFIX\"], \"share/minetest/games/devtest\")\n",
    "# install devtest game if needed\n",
    "if not os.path.exists(game_dir):\n",
    "    os.makedirs(os.path.dirname(game_dir), exist_ok=True)\n",
    "    os.symlink(os.path.realpath(os.path.join(os.getcwd(), \"../../games/devtest\")), game_dir)\n",
    "\n",
    "env = minetester.MinetestEnv(\n",
    "    artifact_dir=os.path.join(temp_dir, \"artifacts\"),\n",
    "    game_dir=game_dir,\n",
    ")\n",
    "video_dir = os.path.join(temp_dir, \"video\")\n",
    "empty_action = {\"KEYS\": np.ndarray(0), \"MOUSE\": [0, 0]}\n",
    "with gymnasium.wrappers.RecordVideo(env, video_dir) as env:\n",
    "    env.reset()\n",
    "    for i in range(1000):\n",
    "        if i % 10 == 0:\n",
    "            action = env.action_space.sample()\n",
    "        else:\n",
    "            action = empty_action\n",
    "        observation, reward, done, truncated, info = env.step(action)\n",
    "        if done: break\n"
   ]
  },
  {
   "cell_type": "code",
   "execution_count": null,
   "metadata": {},
   "outputs": [],
   "source": [
    "import io\n",
    "import base64\n",
    "from IPython.display import HTML\n",
    "\n",
    "video = io.open(os.path.join(video_dir, os.listdir(video_dir)[-1]), \"r+b\").read()\n",
    "encoded = base64.b64encode(video)\n",
    "HTML(data='''\n",
    "    <video width=\"360\" height=\"auto\" alt=\"test\" controls><source src=\"data:video/mp4;base64,{0}\" type=\"video/mp4\" /></video>'''\n",
    ".format(encoded.decode(\"ascii\")))"
   ]
  }
 ],
 "metadata": {
  "kernelspec": {
   "display_name": "minetest-python-example",
   "language": "python",
   "name": "python3"
  },
  "language_info": {
   "codemirror_mode": {
    "name": "ipython",
    "version": 3
   },
   "file_extension": ".py",
   "mimetype": "text/x-python",
   "name": "python",
   "nbconvert_exporter": "python",
   "pygments_lexer": "ipython3",
   "version": "3.11.0"
  }
 },
 "nbformat": 4,
 "nbformat_minor": 2
}
